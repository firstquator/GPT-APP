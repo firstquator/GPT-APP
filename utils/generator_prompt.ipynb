{
 "cells": [
  {
   "cell_type": "markdown",
   "metadata": {},
   "source": [
    "### 📝 프롬프트 (1)"
   ]
  },
  {
   "cell_type": "code",
   "execution_count": null,
   "metadata": {},
   "outputs": [],
   "source": [
    "```\n",
    "# Streamlit 을 사용하기 위해 불러옵니다. 이 때, 이름은 st 로 변경해 줍니다.\n",
    "# (pass를 지우고 코드를 작성하세요.)\n",
    "import streamlit as st\n",
    "\n",
    "# 이미지 생성을 위한 openai 라이브러리를 불러옵니다.\n",
    "# (pass를 지우고 코드를 작성하세요.)\n",
    "import openai\n",
    "\n",
    "# 이미지 URL 을 사용하기 위한 requests 모듈을 불러옵니다.\n",
    "# (pass를 지우고 코드를 작성하세요.)\n",
    "import requests\n",
    "\n",
    "# [ 확장 2 - 1 ] 이미지를 저장할 DB 를 사용하기 위해 SQLite 모듈을 불러옵니다.\n",
    "# (pass를 지우고 코드를 작성하세요.)\n",
    "pass\n",
    "\n",
    "# =========================== 관련 함수 정의 ===========================\n",
    "# 이미지 생성 함수를 정의합니다. ( 생성한 이미지는 URL 형태로 나옵니다. )\n",
    "# (아래에 코드를 작성하세요.)\n",
    "def generate_image_url(prompt):\n",
    "    # DALL-E-3 모델을 이용해 생성한 이미지 응답을 받도록 합니다.\n",
    "    # (아래에 코드를 작성하세요.)\n",
    "    response = openai.images.generate(\n",
    "        prompt=prompt,\n",
    "        model='dall-e-3',\n",
    "        size='1024x1024',\n",
    "        n=1,\n",
    "    )\n",
    "\n",
    "    # 응답(response)을 Python 에서 사용할 수 있는 딕셔너리 형태로 변환해 줍니다.\n",
    "    # (pass를 지우고 코드를 작성하세요.)\n",
    "    image_dict = response.to_dict()\n",
    "\n",
    "    # 생성 이미지 딕셔너리 에서 이미지 URL 만 꺼내옵니다.\n",
    "    # (pass를 지우고 코드를 작성하세요.)\n",
    "    image_url = image_dict['data'][0]['url']\n",
    "\n",
    "    # 이미지 URL 을 반환해 줍니다.\n",
    "    # (pass를 지우고 코드를 작성하세요.)\n",
    "    return image_url\n",
    "\n",
    "# [ 확장 1 ] 이미지 URL 을 전달받아, 이미지를 다운로드하는 버튼을 생성하는 함수를 정의합니다.\n",
    "# [ 필수 ] st.download_button() 을 반드시 사용합니다.\n",
    "# (아래에 코드를 작성하세요.)\n",
    "\n",
    "\n",
    "# [ 확장 2 - 1 ] 이미지 URL 을 전달받아 다운로드한 데이터를 DB 에 저장하는 함수를 정의합니다.\n",
    "# [ 필수 ] DB 가 생성되어 있지 않다면, 생성하는 코드를 추가해 줍니다.\n",
    "# [ 필수 ] 단, 이미지의 URL 을 DB 에 저장하는게 아닙니다. 다운로드된 이미지를 저장하는 겁니다.\n",
    "# (아래에 코드를 작성하세요.)\n",
    "\n",
    "\n",
    "# [ 확장 2 - 2 ] SQLite DB 에 저장되어 있는 모든 이미지를 가져와 가져와 그리드(Grid) 형식으로 띄워주는 함수를 정의합니다.\n",
    "# (아래에 코드를 작성하세요.)\n",
    "\n",
    "\n",
    "# ============================ 웹페이지 UI ============================\n",
    "\n",
    "# 웹페이지 탭 제목, 아이콘, 화면 레이아웃 크기를 설정합니다.\n",
    "# (아래에 코드를 작성하세요.)\n",
    "st.set_page_config(\n",
    "    page_title=\"Image Generator\",\n",
    "    page_icon=\"🎨\",\n",
    "    layout='wide'\n",
    ")\n",
    "\n",
    "# 이미지 생성 웹페이지의 제목을 만들어 줍니다.\n",
    "# (pass를 지우고 코드를 작성하세요.)\n",
    "st.title(\"Image Generator\")\n",
    "\n",
    "# 어떤 이미지를 생성할지 프롬프트(Prompt)를 입력할 수 있도록 텍스트 입력창을 만들어 줍니다.\n",
    "# (pass를 지우고 코드를 작성하세요.)\n",
    "prompt = st.text_input(\"생성할 이미지 프롬프트를 입력해 주세요.\", autocomplete=\"off\")\n",
    "\n",
    "# 이미지 생성을 시작시키는 버튼을 생성해 줍니다.\n",
    "# (pass를 지우고 코드를 작성하세요.)\n",
    "generate_btn = st.button(\"이미지 생성\")\n",
    "\n",
    "# 생성 버튼을 눌렀을 때, 이미지가 생성되도록 합니다.\n",
    "# (pass를 지우고 코드를 작성하세요.)\n",
    "if generate_btn:\n",
    "\n",
    "    # 이 때, 이미지 프롬프트(prompt)가 입력이 되어있는지 확인합니다.\n",
    "    # (pass를 지우고 코드를 작성하세요.)\n",
    "    if prompt:\n",
    "        # 입력한 프롬프트(Prompt)대로 이미지를 생성하도록 함수를 실행시킵니다.\n",
    "        # (pass를 지우고 코드를 작성하세요.)\n",
    "        image_url = generate_image_url(prompt)\n",
    "\n",
    "        # 이미지 URL 을 이용해 웹페이지에 생성한 이미지를 띄웁니다.\n",
    "        # (pass를 지우고 코드를 작성하세요.)\n",
    "        st.image(image_url)\n",
    "\n",
    "        # [ 확장 1 ] 이미지 다운로드 버튼을 생성하는 함수를 실행시킵니다.\n",
    "        # (pass를 지우고 코드를 작성하세요.)\n",
    "        pass\n",
    "\n",
    "        # [ 확장 2 - 1 ] 생성한 이미지를 DB 에 저장하는 함수를 실행시킵니다.\n",
    "        # (pass를 지우고 코드를 작성하세요.)\n",
    "        pass\n",
    "\n",
    "    # 이미지 프롬프트(prompt)가 입력되어 있지 않다면,\n",
    "    # (pass를 지우고 코드를 작성하세요.)\n",
    "    else:\n",
    "        # 프롬프트를 입력하라는 에러 박스를 띄웁니다.\n",
    "        # (pass를 지우고 코드를 작성하세요.)\n",
    "        st.error(\"이미지 프롬프트를 먼저 입력해 주세요.\")\n",
    "\n",
    "# [ 확장 2 - 2 ] DB 에 저장되어 있는 이미지를 순서대로 가져와 웹페이지에 띄워주는 함수를 실행합니다.\n",
    "# [ 필수 ] st.toggle() 함수를 사용하여, Toggle 되었을 때만 보이도록 합니다.\n",
    "# (아래에 코드를 작성하세요.)\n",
    "\n",
    "\n",
    "\n",
    "```\n",
    "\n",
    "너는 뛰어난 Streamlit 전문가야.\n",
    "\n",
    "나는 지금부터 너에게 준 코드에 대해 물어볼거야."
   ]
  },
  {
   "cell_type": "markdown",
   "metadata": {},
   "source": [
    "### 📝 프롬프트 (2)"
   ]
  },
  {
   "cell_type": "code",
   "execution_count": null,
   "metadata": {},
   "outputs": [],
   "source": [
    "모든 [ 확장 1 ] 에 대한 코드를 채워줘"
   ]
  },
  {
   "cell_type": "markdown",
   "metadata": {},
   "source": [
    "### 📝 프롬프트 (2)"
   ]
  },
  {
   "cell_type": "code",
   "execution_count": null,
   "metadata": {},
   "outputs": [],
   "source": [
    "모든 [ 확장 2 - 1 ] 에 대한 코드를 채워줘"
   ]
  },
  {
   "cell_type": "markdown",
   "metadata": {},
   "source": [
    "### 📝 프롬프트 (3)"
   ]
  },
  {
   "cell_type": "code",
   "execution_count": null,
   "metadata": {},
   "outputs": [],
   "source": [
    "모든 [ 확장 2 - 2 ] 에 대한 코드를 채워줘"
   ]
  },
  {
   "cell_type": "markdown",
   "metadata": {},
   "source": [
    "### 📝 프롬프트 (4)"
   ]
  },
  {
   "cell_type": "code",
   "execution_count": null,
   "metadata": {},
   "outputs": [],
   "source": [
    "The use_column_width parameter has been deprecated and will be removed in a future release. Please utilize the use_container_width parameter instead.\n",
    "\n",
    "이런 경고문이 떠."
   ]
  },
  {
   "cell_type": "markdown",
   "metadata": {},
   "source": [
    "### 📝 프롬프트 (5)"
   ]
  },
  {
   "cell_type": "code",
   "execution_count": null,
   "metadata": {},
   "outputs": [],
   "source": [
    "```\n",
    "# [ 확장 2 - 2 ] SQLite DB 에 저장되어 있는 모든 이미지를 가져와 가져와 그리드(Grid) 형식으로 띄워주는 함수를 정의합니다.\n",
    "# (아래에 코드를 작성하세요.)\n",
    "def display_images_from_db():\n",
    "    # SQLite 데이터베이스에 연결합니다.\n",
    "    conn = sqlite3.connect('images.db')\n",
    "    cursor = conn.cursor()\n",
    "\n",
    "    # DB에서 모든 이미지를 가져옵니다.\n",
    "    cursor.execute('SELECT image FROM images')\n",
    "    images = cursor.fetchall()\n",
    "    conn.close()\n",
    "\n",
    "    # 이미지를 그리드 형식으로 표시합니다.\n",
    "    cols = st.columns(3)  # 3개의 열로 나누어 표시합니다.\n",
    "    for index, (image_data,) in enumerate(images):\n",
    "        with cols[index % 3]:  # 3개의 열에 이미지를 배치합니다.\n",
    "            st.image(image_data, use_container_width=True)  # use_container_width로 변경\n",
    "```\n",
    "\n",
    "코드를 다음과 같이 수정해줘.\n",
    "\n",
    "- 이미지의 크기는 가로, 세로 300px로 고정시켜줘.\n",
    "- 각 이미지를 다운로드 받을 수 있도록 버튼을 생성해줘."
   ]
  },
  {
   "cell_type": "markdown",
   "metadata": {},
   "source": [
    "### 📝 프롬프트 (6)"
   ]
  },
  {
   "cell_type": "code",
   "execution_count": null,
   "metadata": {},
   "outputs": [],
   "source": [
    "TypeError: ImageMixin.image() got an unexpected keyword argument 'height'\n",
    "\n",
    "이런 에러가 발생해."
   ]
  },
  {
   "cell_type": "markdown",
   "metadata": {},
   "source": [
    "### 📝 프롬프트 (7)"
   ]
  },
  {
   "cell_type": "code",
   "execution_count": null,
   "metadata": {},
   "outputs": [],
   "source": [
    "```\n",
    "# [ 확장 2 - 2 ] SQLite DB 에 저장되어 있는 모든 이미지를 가져와 그리드(Grid) 형식으로 띄워주는 함수를 정의합니다.\n",
    "def display_images_from_db():\n",
    "    # SQLite 데이터베이스에 연결합니다.\n",
    "    conn = sqlite3.connect('images.db')\n",
    "    cursor = conn.cursor()\n",
    "\n",
    "    # DB에서 모든 이미지를 가져옵니다.\n",
    "    cursor.execute('SELECT image FROM images')\n",
    "    images = cursor.fetchall()\n",
    "    conn.close()\n",
    "\n",
    "    # 이미지를 그리드 형식으로 표시합니다.\n",
    "    cols = st.columns(3)  # 3개의 열로 나누어 표시합니다.\n",
    "    for index, (image_data,) in enumerate(images):\n",
    "        with cols[index % 3]:  # 3개의 열에 이미지를 배치합니다.\n",
    "            st.image(image_data, width=300)  # 이미지의 너비를 300으로 고정\n",
    "\n",
    "            # 이미지 다운로드 버튼 생성\n",
    "            st.download_button(\n",
    "                label=\"이미지 다운로드\",\n",
    "                data=image_data,\n",
    "                file_name=f\"image_{index + 1}.png\",\n",
    "                mime=\"image/png\"\n",
    "            )\n",
    "```\n",
    "\n",
    "코드를 다음과 같이 수정해줘.\n",
    "\n",
    "- 각 이미지에 쓰레기통 아이콘을 생성해주고, 아이콘을 클릭하면 해당 이미지가 DB에서도 현재 웹페이지에서도 삭제되도록 해줘.\n",
    "- HTML 을 사용해줘."
   ]
  },
  {
   "cell_type": "markdown",
   "metadata": {},
   "source": [
    "### 📝 프롬프트 (8)"
   ]
  },
  {
   "cell_type": "code",
   "execution_count": null,
   "metadata": {},
   "outputs": [],
   "source": [
    "AttributeError: module 'streamlit' has no attribute 'experimental_rerun'\n",
    "\n",
    "라는 오류가 발생해"
   ]
  },
  {
   "cell_type": "markdown",
   "metadata": {},
   "source": [
    "---"
   ]
  },
  {
   "cell_type": "markdown",
   "metadata": {},
   "source": [
    "### 📝 응답 (1)"
   ]
  },
  {
   "cell_type": "code",
   "execution_count": null,
   "metadata": {},
   "outputs": [],
   "source": [
    "# [ 확장 1 ] 이미지 URL 을 전달받아, 이미지를 다운로드하는 버튼을 생성하는 함수를 정의합니다.\n",
    "def create_download_button(image_url):\n",
    "    # 이미지 URL을 사용하여 다운로드 버튼을 생성합니다.\n",
    "    st.download_button(\n",
    "        label=\"이미지 다운로드\",\n",
    "        data=requests.get(image_url).content,\n",
    "        file_name=\"generated_image.png\",\n",
    "        mime=\"image/png\"\n",
    "    )\n",
    "    \n",
    "# [ 확장 1 ] 이미지 다운로드 버튼을 생성하는 함수를 실행시킵니다.\n",
    "create_download_button(image_url)"
   ]
  },
  {
   "cell_type": "markdown",
   "metadata": {},
   "source": [
    "### 📝 응답 (2)"
   ]
  },
  {
   "cell_type": "code",
   "execution_count": null,
   "metadata": {},
   "outputs": [],
   "source": [
    "import sqlite3\n",
    "\n",
    "# [ 확장 2 - 1 ] 이미지 URL 을 전달받아 다운로드한 데이터를 DB 에 저장하는 함수를 정의합니다.\n",
    "def save_image_to_db(image_url):\n",
    "    # SQLite 데이터베이스에 연결합니다.\n",
    "    conn = sqlite3.connect('images.db')\n",
    "    cursor = conn.cursor()\n",
    "\n",
    "    # 이미지 저장을 위한 테이블이 존재하지 않으면 생성합니다.\n",
    "    cursor.execute('''\n",
    "        CREATE TABLE IF NOT EXISTS images (\n",
    "            id INTEGER PRIMARY KEY AUTOINCREMENT,\n",
    "            image BLOB NOT NULL\n",
    "        )\n",
    "    ''')\n",
    "\n",
    "    # 이미지를 다운로드하여 바이너리 형태로 저장합니다.\n",
    "    image_data = requests.get(image_url).content\n",
    "\n",
    "    # 이미지를 DB에 저장합니다.\n",
    "    cursor.execute('INSERT INTO images (image) VALUES (?)', (image_data,))\n",
    "    conn.commit()\n",
    "    conn.close()\n",
    "\n",
    "# [ 확장 2 - 1 ] 생성한 이미지를 DB 에 저장하는 함수를 실행시킵니다.\n",
    "save_image_to_db(image_url)"
   ]
  },
  {
   "cell_type": "markdown",
   "metadata": {},
   "source": [
    "### 📝 응답 (3)"
   ]
  },
  {
   "cell_type": "code",
   "execution_count": null,
   "metadata": {},
   "outputs": [],
   "source": [
    "# [ 확장 2 - 2 ] SQLite DB 에 저장되어 있는 모든 이미지를 가져와 그리드(Grid) 형식으로 띄워주는 함수를 정의합니다.\n",
    "def display_images_from_db():\n",
    "    # SQLite 데이터베이스에 연결합니다.\n",
    "    conn = sqlite3.connect('images.db')\n",
    "    cursor = conn.cursor()\n",
    "\n",
    "    # DB에서 모든 이미지를 가져옵니다.\n",
    "    cursor.execute('SELECT image FROM images')\n",
    "    images = cursor.fetchall()\n",
    "    conn.close()\n",
    "\n",
    "    # 이미지를 그리드 형식으로 표시합니다.\n",
    "    cols = st.columns(3)  # 3개의 열로 나누어 표시합니다.\n",
    "    for index, (image_data,) in enumerate(images):\n",
    "        with cols[index % 3]:  # 3개의 열에 이미지를 배치합니다.\n",
    "            st.image(image_data, use_column_width=True)\n",
    "\n",
    "# Toggle을 사용하여 이미지를 표시하는 부분\n",
    "if st.toggle(\"저장된 이미지 보기\"):\n",
    "    display_images_from_db()"
   ]
  },
  {
   "cell_type": "markdown",
   "metadata": {},
   "source": [
    "### 📝 응답 (4)"
   ]
  },
  {
   "cell_type": "code",
   "execution_count": null,
   "metadata": {},
   "outputs": [],
   "source": [
    "# [ 확장 2 - 2 ] SQLite DB 에 저장되어 있는 모든 이미지를 가져와 그리드(Grid) 형식으로 띄워주는 함수를 정의합니다.\n",
    "def display_images_from_db():\n",
    "    # SQLite 데이터베이스에 연결합니다.\n",
    "    conn = sqlite3.connect('images.db')\n",
    "    cursor = conn.cursor()\n",
    "\n",
    "    # DB에서 모든 이미지를 가져옵니다.\n",
    "    cursor.execute('SELECT image FROM images')\n",
    "    images = cursor.fetchall()\n",
    "    conn.close()\n",
    "\n",
    "    # 이미지를 그리드 형식으로 표시합니다.\n",
    "    cols = st.columns(3)  # 3개의 열로 나누어 표시합니다.\n",
    "    for index, (image_data,) in enumerate(images):\n",
    "        with cols[index % 3]:  # 3개의 열에 이미지를 배치합니다.\n",
    "            st.image(image_data, use_container_width=True)  # use_container_width로 변경\n",
    "\n",
    "# Toggle을 사용하여 이미지를 표시하는 부분\n",
    "if st.toggle(\"저장된 이미지 보기\"):\n",
    "    display_images_from_db()"
   ]
  },
  {
   "cell_type": "markdown",
   "metadata": {},
   "source": [
    "### 📝 응답 (5)"
   ]
  },
  {
   "cell_type": "code",
   "execution_count": null,
   "metadata": {},
   "outputs": [],
   "source": [
    "# [ 확장 2 - 2 ] SQLite DB 에 저장되어 있는 모든 이미지를 가져와 그리드(Grid) 형식으로 띄워주는 함수를 정의합니다.\n",
    "def display_images_from_db():\n",
    "    # SQLite 데이터베이스에 연결합니다.\n",
    "    conn = sqlite3.connect('images.db')\n",
    "    cursor = conn.cursor()\n",
    "\n",
    "    # DB에서 모든 이미지를 가져옵니다.\n",
    "    cursor.execute('SELECT image FROM images')\n",
    "    images = cursor.fetchall()\n",
    "    conn.close()\n",
    "\n",
    "    # 이미지를 그리드 형식으로 표시합니다.\n",
    "    cols = st.columns(3)  # 3개의 열로 나누어 표시합니다.\n",
    "    for index, (image_data,) in enumerate(images):\n",
    "        with cols[index % 3]:  # 3개의 열에 이미지를 배치합니다.\n",
    "            st.image(image_data, width=300, height=300)  # 이미지 크기를 300x300으로 고정\n",
    "\n",
    "            # 이미지 다운로드 버튼 생성\n",
    "            st.download_button(\n",
    "                label=\"이미지 다운로드\",\n",
    "                data=image_data,\n",
    "                file_name=f\"image_{index + 1}.png\",\n",
    "                mime=\"image/png\"\n",
    "            )"
   ]
  },
  {
   "cell_type": "markdown",
   "metadata": {},
   "source": [
    "### 📝 응답 (6)"
   ]
  },
  {
   "cell_type": "code",
   "execution_count": null,
   "metadata": {},
   "outputs": [],
   "source": [
    "# [ 확장 2 - 2 ] SQLite DB 에 저장되어 있는 모든 이미지를 가져와 그리드(Grid) 형식으로 띄워주는 함수를 정의합니다.\n",
    "def display_images_from_db():\n",
    "    # SQLite 데이터베이스에 연결합니다.\n",
    "    conn = sqlite3.connect('images.db')\n",
    "    cursor = conn.cursor()\n",
    "\n",
    "    # DB에서 모든 이미지를 가져옵니다.\n",
    "    cursor.execute('SELECT image FROM images')\n",
    "    images = cursor.fetchall()\n",
    "    conn.close()\n",
    "\n",
    "    # 이미지를 그리드 형식으로 표시합니다.\n",
    "    cols = st.columns(3)  # 3개의 열로 나누어 표시합니다.\n",
    "    for index, (image_data,) in enumerate(images):\n",
    "        with cols[index % 3]:  # 3개의 열에 이미지를 배치합니다.\n",
    "            st.image(image_data, width=300)  # 이미지의 너비를 300으로 고정\n",
    "\n",
    "            # 이미지 다운로드 버튼 생성\n",
    "            st.download_button(\n",
    "                label=\"이미지 다운로드\",\n",
    "                data=image_data,\n",
    "                file_name=f\"image_{index + 1}.png\",\n",
    "                mime=\"image/png\"\n",
    "            )"
   ]
  },
  {
   "cell_type": "markdown",
   "metadata": {},
   "source": [
    "### 📝 응답 (7)"
   ]
  },
  {
   "cell_type": "code",
   "execution_count": null,
   "metadata": {},
   "outputs": [],
   "source": [
    "# [ 확장 2 - 2 ] SQLite DB 에 저장되어 있는 모든 이미지를 가져와 그리드(Grid) 형식으로 띄워주는 함수를 정의합니다.\n",
    "def display_images_from_db():\n",
    "    # SQLite 데이터베이스에 연결합니다.\n",
    "    conn = sqlite3.connect('images.db')\n",
    "    cursor = conn.cursor()\n",
    "\n",
    "    # DB에서 모든 이미지를 가져옵니다.\n",
    "    cursor.execute('SELECT id, image FROM images')  # id도 가져옵니다.\n",
    "    images = cursor.fetchall()\n",
    "    conn.close()\n",
    "\n",
    "    # 이미지를 그리드 형식으로 표시합니다.\n",
    "    cols = st.columns(3)  # 3개의 열로 나누어 표시합니다.\n",
    "    for index, (image_id, image_data) in enumerate(images):\n",
    "        with cols[index % 3]:  # 3개의 열에 이미지를 배치합니다.\n",
    "            st.image(image_data, width=300)  # 이미지의 너비를 300으로 고정\n",
    "\n",
    "            # 이미지 다운로드 버튼 생성\n",
    "            st.download_button(\n",
    "                label=\"이미지 다운로드\",\n",
    "                data=image_data,\n",
    "                file_name=f\"image_{index + 1}.png\",\n",
    "                mime=\"image/png\"\n",
    "            )\n",
    "\n",
    "            # 쓰레기통 아이콘을 HTML로 생성\n",
    "            if st.button(\"🗑️\", key=f\"delete_{image_id}\"):  # 버튼 클릭 시 해당 이미지 삭제\n",
    "                delete_image_from_db(image_id)  # DB에서 이미지 삭제\n",
    "                st.experimental_rerun()  # 페이지를 새로 고침하여 변경 사항 반영\n",
    "\n",
    "# 이미지를 DB에서 삭제하는 함수\n",
    "def delete_image_from_db(image_id):\n",
    "    conn = sqlite3.connect('images.db')\n",
    "    cursor = conn.cursor()\n",
    "    cursor.execute('DELETE FROM images WHERE id = ?', (image_id,))\n",
    "    conn.commit()\n",
    "    conn.close()"
   ]
  },
  {
   "cell_type": "markdown",
   "metadata": {},
   "source": [
    "### 📝 응답 (8)"
   ]
  },
  {
   "cell_type": "code",
   "execution_count": null,
   "metadata": {},
   "outputs": [],
   "source": [
    "def display_images_from_db():\n",
    "    # SQLite 데이터베이스에 연결합니다.\n",
    "    conn = sqlite3.connect('images.db')\n",
    "    cursor = conn.cursor()\n",
    "\n",
    "    # DB에서 모든 이미지를 가져옵니다.\n",
    "    cursor.execute('SELECT id, image FROM images')  # id도 가져옵니다.\n",
    "    images = cursor.fetchall()\n",
    "    conn.close()\n",
    "\n",
    "    # 이미지를 그리드 형식으로 표시합니다.\n",
    "    cols = st.columns(3)  # 3개의 열로 나누어 표시합니다.\n",
    "    for index, (image_id, image_data) in enumerate(images):\n",
    "        with cols[index % 3]:  # 3개의 열에 이미지를 배치합니다.\n",
    "            st.image(image_data, width=300)  # 이미지의 너비를 300으로 고정\n",
    "\n",
    "            # 이미지 다운로드 버튼 생성\n",
    "            st.download_button(\n",
    "                label=\"이미지 다운로드\",\n",
    "                data=image_data,\n",
    "                file_name=f\"image_{index + 1}.png\",\n",
    "                mime=\"image/png\"\n",
    "            )\n",
    "\n",
    "            # 쓰레기통 아이콘을 HTML로 생성\n",
    "            if st.button(\"🗑️\", key=f\"delete_{image_id}\"):  # 버튼 클릭 시 해당 이미지 삭제\n",
    "                delete_image_from_db(image_id)  # DB에서 이미지 삭제\n",
    "                st.rerun()  # 페이지를 새로 고침하여 변경 사항 반영"
   ]
  }
 ],
 "metadata": {
  "language_info": {
   "name": "python"
  }
 },
 "nbformat": 4,
 "nbformat_minor": 2
}
